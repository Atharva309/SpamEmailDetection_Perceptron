{
  "nbformat": 4,
  "nbformat_minor": 0,
  "metadata": {
    "colab": {
      "provenance": [],
      "authorship_tag": "ABX9TyNXp5QIqn7wTr3tCkOfe5WA"
    },
    "kernelspec": {
      "name": "python3",
      "display_name": "Python 3"
    },
    "language_info": {
      "name": "python"
    }
  },
  "cells": [
    {
      "cell_type": "code",
      "execution_count": 6,
      "metadata": {
        "colab": {
          "base_uri": "https://localhost:8080/"
        },
        "id": "0bu1vtbxZ4Y3",
        "outputId": "e7097cba-3b94-454b-8ef9-32b876621955"
      },
      "outputs": [
        {
          "output_type": "stream",
          "name": "stdout",
          "text": [
            "Accuracy: 0.968609865470852\n",
            "Precision: 0.891156462585034\n",
            "Recall: 0.8733333333333333\n",
            "F1-score: 0.882154882154882\n"
          ]
        }
      ],
      "source": [
        "import pandas as pd\n",
        "import numpy as np\n",
        "\n",
        "# Load the spam email dataset\n",
        "spam_df = pd.read_csv('/content/drive/MyDrive/datasets/spam.csv', encoding='latin-1')\n",
        "# spam_df = spam_df.drop(['Unnamed: 2', 'Unnamed: 3', 'Unnamed: 4'], axis=1)\n",
        "spam_df = spam_df.rename(columns={'v1': 'label', 'v2': 'text'})\n",
        "\n",
        "# Convert the labels to binary values (0 for 'ham', 1 for 'spam')\n",
        "spam_df['label'] = np.where(spam_df['label']=='spam', 1, 0)\n",
        "\n",
        "# Split the dataset into training and testing sets\n",
        "from sklearn.model_selection import train_test_split\n",
        "X_train, X_test, y_train, y_test = train_test_split(spam_df['text'], spam_df['label'], test_size=0.2, random_state=42)\n",
        "\n",
        "# Vectorize the text data\n",
        "from sklearn.feature_extraction.text import CountVectorizer\n",
        "vectorizer = CountVectorizer()\n",
        "X_train_vec = vectorizer.fit_transform(X_train)\n",
        "X_test_vec = vectorizer.transform(X_test)\n",
        "\n",
        "# Train the Perceptron algorithm\n",
        "from sklearn.linear_model import Perceptron\n",
        "clf = Perceptron()\n",
        "clf.fit(X_train_vec, y_train)\n",
        "\n",
        "# Evaluate the model\n",
        "from sklearn.metrics import accuracy_score, precision_score, recall_score, f1_score\n",
        "y_pred = clf.predict(X_test_vec)\n",
        "print('Accuracy:', accuracy_score(y_test, y_pred))\n",
        "print('Precision:', precision_score(y_test, y_pred))\n",
        "print('Recall:', recall_score(y_test, y_pred))\n",
        "print('F1-score:', f1_score(y_test, y_pred))\n"
      ]
    },
    {
      "cell_type": "code",
      "source": [
        "# Prompt the user to enter a text message\n",
        "input_text = input(\"Enter a text message: \")\n",
        "\n",
        "# Vectorize the input text using the same vectorizer\n",
        "input_vec = vectorizer.transform([input_text])\n",
        "\n",
        "# Use the trained Perceptron model to predict whether the input text is spam or not\n",
        "prediction = clf.predict(input_vec)[0]\n",
        "\n",
        "if prediction == 1:\n",
        "    print(\"This text message is spam!\")\n",
        "else:\n",
        "    print(\"This text message is not spam.\")"
      ],
      "metadata": {
        "colab": {
          "base_uri": "https://localhost:8080/"
        },
        "id": "PaeuwtSVa0bF",
        "outputId": "8ce48178-be3c-4941-98a2-09bfc6c48cc6"
      },
      "execution_count": 7,
      "outputs": [
        {
          "output_type": "stream",
          "name": "stdout",
          "text": [
            "Enter a text message: hello how are you can i come to ur home today\n",
            "This text message is not spam.\n"
          ]
        }
      ]
    },
    {
      "cell_type": "code",
      "source": [
        "# Prompt the user to enter a text message\n",
        "input_text = input(\"Enter a text message: \")\n",
        "\n",
        "# Vectorize the input text using the same vectorizer\n",
        "input_vec = vectorizer.transform([input_text])\n",
        "\n",
        "# Use the trained Perceptron model to predict whether the input text is spam or not\n",
        "prediction = clf.predict(input_vec)[0]\n",
        "\n",
        "if prediction == 1:\n",
        "    print(\"This text message is spam!\")\n",
        "else:\n",
        "    print(\"This text message is not spam.\")"
      ],
      "metadata": {
        "colab": {
          "base_uri": "https://localhost:8080/"
        },
        "id": "nJICKS9Kb2Os",
        "outputId": "71e84488-431c-4195-9db2-5ca42121e5d7"
      },
      "execution_count": 10,
      "outputs": [
        {
          "output_type": "stream",
          "name": "stdout",
          "text": [
            "Enter a text message: winner! free iphone winner\n",
            "This text message is spam!\n"
          ]
        }
      ]
    }
  ]
}